{
 "cells": [
  {
   "cell_type": "code",
   "execution_count": 16,
   "metadata": {},
   "outputs": [],
   "source": [
    "import snowflake.connector\n",
    "import pandas as pd\n",
    "import seaborn as sns\n",
    "import plotly.express as px\n",
    "import warnings\n",
    "import numpy as np\n",
    "import matplotlib.pyplot as plt\n",
    "import os\n",
    "\n",
    "usr = os.environ['svc_user']\n",
    "pwd = os.environ['svc_pwd']\n",
    "# usr = 'SVC_PROMO'\n",
    "# pwd = 'nBrVtHzLh8dk2Kvv'\n",
    "\n",
    "warnings.filterwarnings('ignore')"
   ]
  },
  {
   "cell_type": "code",
   "execution_count": 17,
   "metadata": {},
   "outputs": [],
   "source": [
    "def sf_connect():\n",
    "    con = snowflake.connector.connect(  \n",
    "        account = 'chewy.us-east-1',\n",
    "        user = usr,\n",
    "        password=pwd,\n",
    "        autocommit = False,\n",
    "        database= 'EDLDB',\n",
    "        warehouse = 'IT_WH')\n",
    "    return con\n",
    "    \n",
    "def exec_qry_all(qry):\n",
    "    con = sf_connect()\n",
    "    cur = con.cursor()\n",
    "    try:\n",
    "        cur.execute(qry,timeout=3600)\n",
    "        return cur.fetch_pandas_all()   \n",
    "    except Exception as e:\n",
    "        print(e)\n",
    "    finally:\n",
    "        cur.close()"
   ]
  },
  {
   "cell_type": "code",
   "execution_count": 35,
   "metadata": {},
   "outputs": [],
   "source": [
    "qry = '''WITH CUSTOMERS AS (\n",
    "  SELECT DISTINCT\n",
    "  CUSTOMER_ID,\n",
    "  CASE WHEN ORDERS_L3M > 0 THEN 1 ELSE 0 END AS ACTIVE_3M, \n",
    "  ORDERS_L3M,\n",
    "  ORDERS_L6M,\n",
    "  ORDERS_L9M,\n",
    "  ORDERS_L12M,\n",
    "  FIRST_ORDER_DATE,\n",
    "  LAST_ORDER_DATE,\n",
    "  AUTOSHIP_STATUS,\n",
    "  REGISTRATION_DATE\n",
    "  FROM CDM.CUSTOMER_AGGREGATE\n",
    "  \n",
    "  WHERE REGISTRATION_DATE BETWEEN DATEADD('day',-365,CURRENT_DATE) AND CURRENT_DATE\n",
    "  \n",
    "),\n",
    "\n",
    "ORDERS AS (\n",
    "  \n",
    "  SELECT\n",
    "  CA.CUSTOMER_ID,\n",
    "  CA.REGISTRATION_DATE,\n",
    "  CA.FIRST_ORDER_DATE,\n",
    "  OL.ORDER_ID,\n",
    "  OL.PRODUCT_ID,\n",
    "  PD.CATEGORY_LEVEL1,\n",
    "  PD.CATEGORY_LEVEL2,\n",
    "  PD.CATEGORY_LEVEL3,\n",
    "  PD.MERCH_CLASSIFICATION1,\n",
    "  PD.MERCH_CLASSIFICATION2,\n",
    "  CAST(OL.ORDER_PLACED_DTTM AS DATE) AS ORDER_PLACED_DATE,\n",
    "  OL.ORDER_LINE_TOTAL_PRICE AS ORDER_PRICE,\n",
    "  CASE WHEN OL.ORDER_AUTO_REORDER_FLAG = 'TRUE' then 'Autoship' else 'Non_Autoship' end as ORDER_TYPE,\n",
    "  ROW_NUMBER() OVER (PARTITION BY CA.CUSTOMER_ID, \n",
    "                     CASE WHEN OL.ORDER_AUTO_REORDER_FLAG = 'TRUE' then 'Autoship' else 'Non_Autoship' END ORDER BY OL.ORDER_PLACED_DTTM ASC) AS AS_RANKING,\n",
    "  DENSE_RANK() OVER (PARTITION BY CA.CUSTOMER_ID ORDER BY OL.ORDER_PLACED_DTTM ASC) AS ORDER_RANKING\n",
    "  \n",
    "  FROM CUSTOMERS CA\n",
    "  \n",
    "  LEFT JOIN ECOM.ORDER_LINE OL\n",
    "  ON CA.CUSTOMER_ID = OL.CUSTOMER_ID \n",
    "  AND OL.ORDER_LINE_TOTAL_PRICE != 0\n",
    "  AND OL.ORDER_LINE_SHIPPED_DTTM IS NOT NULL\n",
    "  AND OL.ORDER_STATUS NOT IN ('X', 'P', 'J')\n",
    "  AND OL.ORDER_PLACED_DTTM BETWEEN DATEADD('day',-365,CURRENT_DATE) AND CURRENT_DATE\n",
    "  \n",
    "  LEFT JOIN PDM.PRODUCT PD\n",
    "  ON OL.PRODUCT_ID = PD.PRODUCT_ID\n",
    "\n",
    "),\n",
    "\n",
    "MC1_DATES AS (\n",
    "  SELECT\n",
    "  CUSTOMER_ID,\n",
    "  \n",
    "  MIN(CASE WHEN MERCH_CLASSIFICATION1 = 'Consumables' THEN ORDER_PLACED_DATE ELSE NULL END) AS FIRST_CONSUMABLES_DATE,\n",
    "  MIN(CASE WHEN MERCH_CLASSIFICATION1 = 'Healthcare' THEN ORDER_PLACED_DATE ELSE NULL END) AS FIRST_HEALTHCARE_DATE,\n",
    "  MIN(CASE WHEN MERCH_CLASSIFICATION1 = 'Hard Goods' THEN ORDER_PLACED_DATE ELSE NULL END) AS FIRST_HARDGOODS_DATE,\n",
    "  MIN(CASE WHEN MERCH_CLASSIFICATION1 = 'Specialty' THEN ORDER_PLACED_DATE ELSE NULL END) AS FIRST_SPECIALITY_DATE,\n",
    "  MIN(CASE WHEN MERCH_CLASSIFICATION1 = 'Virtual Bundle' THEN ORDER_PLACED_DATE ELSE NULL END) AS FIRST_VB_DATE\n",
    "  \n",
    "  FROM ORDERS\n",
    "  \n",
    "  GROUP BY 1\n",
    "),\n",
    "\n",
    "GA_HITS AS (\n",
    "  SELECT\n",
    "    O.CUSTOMER_ID,\n",
    "\n",
    "    SUM(CASE WHEN lower(EVENT_ACTION) = 'detail' AND lower(EVENT_CATEGORY) = 'eec' AND GA_SESSIONS_DATE > FIRST_ORDER_DATE AND GA_SESSIONS_DATE < M.FIRST_CONSUMABLES_DATE THEN 1 ELSE 0 END) AS PDP_HITS_BETWEEN_SESSIONS,\n",
    "    //SUM(CASE WHEN lower(EVENT_ACTION) = 'impression' AND lower(EVENT_LABEL) in ('search-results','browse','brand-page','deals') AND GA_SESSIONS_DATE > FIRST_ORDER_DATE AND GA_SESSIONS_DATE < M.FIRST_CONSUMABLES_DATE THEN 1 ELSE 0 END) AS PLP_HITS_BETWEEN_SESSIONS,\n",
    "    SUM(CASE WHEN lower(EVENT_ACTION) = 'impression' AND (PAGE_PATH_LEVEL1 like '%/b/%' or PAGE_PATH_LEVEL1 like '%/f/%' or PAGE_PATH_LEVEL1 like '%/brands/%' or PAGE_PATH_LEVEL1 like '%/deals/%' or PAGE_PATH_LEVEL1 like '%/s%') AND GA_SESSIONS_DATE > FIRST_ORDER_DATE AND GA_SESSIONS_DATE < M.FIRST_CONSUMABLES_DATE THEN 1 ELSE 0 END) AS PLP_HITS_BETWEEN_SESSIONS,\n",
    "    SUM(CASE WHEN lower(EVENT_ACTION) like '%add%to%cart%' AND lower(EVENT_CATEGORY) = 'eec' AND GA_SESSIONS_DATE > FIRST_ORDER_DATE AND GA_SESSIONS_DATE < M.FIRST_CONSUMABLES_DATE THEN 1 ELSE 0 END) AS ATC_HITS_BETWEEN_SESSIONS,\n",
    "    MAX(CASE WHEN GA_SESSIONS_DATE > FIRST_ORDER_DATE AND GA_SESSIONS_DATE < M.FIRST_CONSUMABLES_DATE THEN CHANNEL_GROUPING ELSE NULL END) AS SOURCE_BETWEEN_SESSIONS,\n",
    "    MAX(CASE WHEN GA_SESSIONS_DATE > FIRST_ORDER_DATE AND GA_SESSIONS_DATE < M.FIRST_CONSUMABLES_DATE THEN PRODUCT_MERCH_CLASSIFICATION2 ELSE NULL END) AS MC2_BETWEEN_SESSIONS,\n",
    "\n",
    "    SUM(CASE WHEN lower(EVENT_ACTION) = 'detail' AND lower(EVENT_CATEGORY) = 'eec' AND GA_SESSIONS_DATE = M.FIRST_CONSUMABLES_DATE THEN 1 ELSE 0 END) AS PDP_HITS_ORDER_SESSION,\n",
    "    //SUM(CASE WHEN lower(EVENT_ACTION) = 'impression' AND lower(EVENT_LABEL) in ('search-results','browse','brand-page','deals') AND GA_SESSIONS_DATE = M.FIRST_CONSUMABLES_DATE THEN 1 ELSE 0 END) AS PLP_HITS_ORDER_SESSION,\n",
    "    SUM(CASE WHEN lower(EVENT_ACTION) = 'impression' AND (PAGE_PATH_LEVEL1 like '%/b/%' or PAGE_PATH_LEVEL1 like '%/f/%' or PAGE_PATH_LEVEL1 like '%/brands/%' or PAGE_PATH_LEVEL1 like '%/deals/%' or PAGE_PATH_LEVEL1 like '%/s%') AND GA_SESSIONS_DATE = M.FIRST_CONSUMABLES_DATE THEN 1 ELSE 0 END) AS PLP_HITS_ORDER_SESSION,\n",
    "    SUM(CASE WHEN lower(EVENT_ACTION) like '%add%to%cart%' AND lower(EVENT_CATEGORY) = 'eec' AND GA_SESSIONS_DATE = M.FIRST_CONSUMABLES_DATE THEN 1 ELSE 0 END) AS ATC_HITS_ORDER_SESSION,\n",
    "    MAX(CASE WHEN GA_SESSIONS_DATE = M.FIRST_CONSUMABLES_DATE THEN CHANNEL_GROUPING ELSE NULL END) AS SOURCE_ORDER_SESSION,\n",
    "    MAX(CASE WHEN GA_SESSIONS_DATE = M.FIRST_CONSUMABLES_DATE THEN PRODUCT_MERCH_CLASSIFICATION2 ELSE NULL END) AS MC2_ORDER_SESSION\n",
    "  \n",
    "  FROM\n",
    "    ORDERS AS O\n",
    "    JOIN MC1_DATES AS M ON O.CUSTOMER_ID = M.CUSTOMER_ID\n",
    "    JOIN \"EDLDB\".\"GA\".\"GA_SESSIONS_HITS_PRODUCTS_UNION\" AS G ON O.CUSTOMER_ID = G.CUSTOMER_ID\n",
    "\n",
    "  WHERE GA_SESSIONS_DATE BETWEEN DATEADD('day',-365,CURRENT_DATE) AND CURRENT_DATE\n",
    "      AND G.CUSTOMER_ID IS NOT NULL\n",
    "      AND FIRST_CONSUMABLES_DATE IS NOT NULL\n",
    "      //AND O.MERCH_CLASSIFICATION1 = 'Consumables'\n",
    "      AND PRODUCT_MERCH_CLASSIFICATION1 = 'Consumables'\n",
    "\n",
    "  GROUP BY 1\n",
    ")\n",
    "\n",
    "SELECT\n",
    "    C.CUSTOMER_ID,\n",
    "    C.FIRST_ORDER_DATE,\n",
    "    M.FIRST_CONSUMABLES_DATE,\n",
    "    PDP_HITS_BETWEEN_SESSIONS,\n",
    "    PLP_HITS_BETWEEN_SESSIONS,\n",
    "    ATC_HITS_BETWEEN_SESSIONS,\n",
    "    SOURCE_BETWEEN_SESSIONS,\n",
    "    MC2_BETWEEN_SESSIONS,\n",
    "    PDP_HITS_ORDER_SESSION,\n",
    "    PLP_HITS_ORDER_SESSION,\n",
    "    ATC_HITS_ORDER_SESSION,\n",
    "    SOURCE_ORDER_SESSION,\n",
    "    MC2_ORDER_SESSION\n",
    "\n",
    "FROM\n",
    "    \"EDLDB\".\"ECOM_SANDBOX\".\"FO_HG_CUSTOMERS\" as C\n",
    "    JOIN GA_HITS AS GA ON C.CUSTOMER_ID = GA.CUSTOMER_ID\n",
    "    JOIN MC1_DATES AS M ON C.CUSTOMER_ID = M.CUSTOMER_ID\n",
    "\n",
    "WHERE\n",
    "    FIRST_CONSUMABLES_DATE IS NOT NULL\n",
    "'''"
   ]
  },
  {
   "cell_type": "code",
   "execution_count": 36,
   "metadata": {},
   "outputs": [
    {
     "data": {
      "text/html": [
       "<div>\n",
       "<style scoped>\n",
       "    .dataframe tbody tr th:only-of-type {\n",
       "        vertical-align: middle;\n",
       "    }\n",
       "\n",
       "    .dataframe tbody tr th {\n",
       "        vertical-align: top;\n",
       "    }\n",
       "\n",
       "    .dataframe thead th {\n",
       "        text-align: right;\n",
       "    }\n",
       "</style>\n",
       "<table border=\"1\" class=\"dataframe\">\n",
       "  <thead>\n",
       "    <tr style=\"text-align: right;\">\n",
       "      <th></th>\n",
       "      <th>CUSTOMER_ID</th>\n",
       "      <th>FIRST_ORDER_DATE</th>\n",
       "      <th>FIRST_CONSUMABLES_DATE</th>\n",
       "      <th>PDP_HITS_BETWEEN_SESSIONS</th>\n",
       "      <th>PLP_HITS_BETWEEN_SESSIONS</th>\n",
       "      <th>ATC_HITS_BETWEEN_SESSIONS</th>\n",
       "      <th>SOURCE_BETWEEN_SESSIONS</th>\n",
       "      <th>MC2_BETWEEN_SESSIONS</th>\n",
       "      <th>PDP_HITS_ORDER_SESSION</th>\n",
       "      <th>PLP_HITS_ORDER_SESSION</th>\n",
       "      <th>ATC_HITS_ORDER_SESSION</th>\n",
       "      <th>SOURCE_ORDER_SESSION</th>\n",
       "      <th>MC2_ORDER_SESSION</th>\n",
       "    </tr>\n",
       "  </thead>\n",
       "  <tbody>\n",
       "    <tr>\n",
       "      <th>0</th>\n",
       "      <td>153558315</td>\n",
       "      <td>2021-07-05</td>\n",
       "      <td>2021-10-20</td>\n",
       "      <td>0</td>\n",
       "      <td>780</td>\n",
       "      <td>0</td>\n",
       "      <td>Email</td>\n",
       "      <td>Perishable</td>\n",
       "      <td>15</td>\n",
       "      <td>330</td>\n",
       "      <td>30</td>\n",
       "      <td>Chewy Paid Search</td>\n",
       "      <td>Core Treats</td>\n",
       "    </tr>\n",
       "    <tr>\n",
       "      <th>1</th>\n",
       "      <td>183824213</td>\n",
       "      <td>2021-11-14</td>\n",
       "      <td>2022-01-10</td>\n",
       "      <td>48</td>\n",
       "      <td>248</td>\n",
       "      <td>20</td>\n",
       "      <td>Paid Search</td>\n",
       "      <td>Premium</td>\n",
       "      <td>0</td>\n",
       "      <td>0</td>\n",
       "      <td>0</td>\n",
       "      <td>None</td>\n",
       "      <td>None</td>\n",
       "    </tr>\n",
       "    <tr>\n",
       "      <th>2</th>\n",
       "      <td>161060966</td>\n",
       "      <td>2021-09-04</td>\n",
       "      <td>2021-09-16</td>\n",
       "      <td>12</td>\n",
       "      <td>324</td>\n",
       "      <td>12</td>\n",
       "      <td>Chewy Paid Search</td>\n",
       "      <td>Core Treats</td>\n",
       "      <td>0</td>\n",
       "      <td>0</td>\n",
       "      <td>0</td>\n",
       "      <td>Chewy Paid Search</td>\n",
       "      <td>Core Treats</td>\n",
       "    </tr>\n",
       "    <tr>\n",
       "      <th>3</th>\n",
       "      <td>151367318</td>\n",
       "      <td>2021-06-24</td>\n",
       "      <td>2021-08-29</td>\n",
       "      <td>36</td>\n",
       "      <td>5112</td>\n",
       "      <td>36</td>\n",
       "      <td>Paid Search</td>\n",
       "      <td>Premium</td>\n",
       "      <td>72</td>\n",
       "      <td>2556</td>\n",
       "      <td>54</td>\n",
       "      <td>Paid Search</td>\n",
       "      <td>Premium</td>\n",
       "    </tr>\n",
       "    <tr>\n",
       "      <th>4</th>\n",
       "      <td>188846192</td>\n",
       "      <td>2021-11-11</td>\n",
       "      <td>2022-01-18</td>\n",
       "      <td>14</td>\n",
       "      <td>322</td>\n",
       "      <td>7</td>\n",
       "      <td>Paid Search</td>\n",
       "      <td>Litter</td>\n",
       "      <td>0</td>\n",
       "      <td>0</td>\n",
       "      <td>0</td>\n",
       "      <td>None</td>\n",
       "      <td>None</td>\n",
       "    </tr>\n",
       "  </tbody>\n",
       "</table>\n",
       "</div>"
      ],
      "text/plain": [
       "   CUSTOMER_ID FIRST_ORDER_DATE FIRST_CONSUMABLES_DATE  \\\n",
       "0    153558315       2021-07-05             2021-10-20   \n",
       "1    183824213       2021-11-14             2022-01-10   \n",
       "2    161060966       2021-09-04             2021-09-16   \n",
       "3    151367318       2021-06-24             2021-08-29   \n",
       "4    188846192       2021-11-11             2022-01-18   \n",
       "\n",
       "   PDP_HITS_BETWEEN_SESSIONS  PLP_HITS_BETWEEN_SESSIONS  \\\n",
       "0                          0                        780   \n",
       "1                         48                        248   \n",
       "2                         12                        324   \n",
       "3                         36                       5112   \n",
       "4                         14                        322   \n",
       "\n",
       "   ATC_HITS_BETWEEN_SESSIONS SOURCE_BETWEEN_SESSIONS MC2_BETWEEN_SESSIONS  \\\n",
       "0                          0                   Email           Perishable   \n",
       "1                         20             Paid Search              Premium   \n",
       "2                         12       Chewy Paid Search          Core Treats   \n",
       "3                         36             Paid Search              Premium   \n",
       "4                          7             Paid Search               Litter   \n",
       "\n",
       "   PDP_HITS_ORDER_SESSION  PLP_HITS_ORDER_SESSION  ATC_HITS_ORDER_SESSION  \\\n",
       "0                      15                     330                      30   \n",
       "1                       0                       0                       0   \n",
       "2                       0                       0                       0   \n",
       "3                      72                    2556                      54   \n",
       "4                       0                       0                       0   \n",
       "\n",
       "  SOURCE_ORDER_SESSION MC2_ORDER_SESSION  \n",
       "0    Chewy Paid Search       Core Treats  \n",
       "1                 None              None  \n",
       "2    Chewy Paid Search       Core Treats  \n",
       "3          Paid Search           Premium  \n",
       "4                 None              None  "
      ]
     },
     "execution_count": 36,
     "metadata": {},
     "output_type": "execute_result"
    }
   ],
   "source": [
    "dataset = exec_qry_all(qry)\n",
    "dataset.head()"
   ]
  },
  {
   "cell_type": "markdown",
   "metadata": {},
   "source": [
    "---"
   ]
  },
  {
   "cell_type": "markdown",
   "metadata": {},
   "source": [
    "First order HG customers to first order consumables - where do they come from? <br>\n",
    "What does their activity look like in between sessions? <br>\n",
    "What does their activity look like on the day of the first consumables order?"
   ]
  },
  {
   "cell_type": "code",
   "execution_count": 37,
   "metadata": {},
   "outputs": [
    {
     "data": {
      "text/plain": [
       "Direct               26.46\n",
       "Email                21.42\n",
       "PLA                  13.73\n",
       "Organic Search       11.34\n",
       "Chewy Paid Search     9.43\n",
       "Paid Search           8.54\n",
       "Affiliates            5.64\n",
       "Referral              1.61\n",
       "Paid Social           0.79\n",
       "Display               0.62\n",
       "Organic Social        0.21\n",
       "(Other)               0.20\n",
       "Video                 0.01\n",
       "Name: SOURCE_ORDER_SESSION, dtype: float64"
      ]
     },
     "execution_count": 37,
     "metadata": {},
     "output_type": "execute_result"
    }
   ],
   "source": [
    "source = dataset.groupby(['CUSTOMER_ID'])['SOURCE_ORDER_SESSION'].max()\n",
    "source.value_counts(normalize = True).mul(100).round(2)"
   ]
  },
  {
   "cell_type": "code",
   "execution_count": 38,
   "metadata": {},
   "outputs": [
    {
     "data": {
      "text/html": [
       "<div>\n",
       "<style scoped>\n",
       "    .dataframe tbody tr th:only-of-type {\n",
       "        vertical-align: middle;\n",
       "    }\n",
       "\n",
       "    .dataframe tbody tr th {\n",
       "        vertical-align: top;\n",
       "    }\n",
       "\n",
       "    .dataframe thead th {\n",
       "        text-align: right;\n",
       "    }\n",
       "</style>\n",
       "<table border=\"1\" class=\"dataframe\">\n",
       "  <thead>\n",
       "    <tr style=\"text-align: right;\">\n",
       "      <th></th>\n",
       "      <th>CUSTOMER_ID</th>\n",
       "      <th>PDP_HITS_BETWEEN_SESSIONS</th>\n",
       "      <th>PLP_HITS_BETWEEN_SESSIONS</th>\n",
       "      <th>ATC_HITS_BETWEEN_SESSIONS</th>\n",
       "      <th>PDP_HITS_ORDER_SESSION</th>\n",
       "      <th>PLP_HITS_ORDER_SESSION</th>\n",
       "      <th>ATC_HITS_ORDER_SESSION</th>\n",
       "    </tr>\n",
       "  </thead>\n",
       "  <tbody>\n",
       "    <tr>\n",
       "      <th>0</th>\n",
       "      <td>4599255</td>\n",
       "      <td>80</td>\n",
       "      <td>1200</td>\n",
       "      <td>0</td>\n",
       "      <td>0</td>\n",
       "      <td>0</td>\n",
       "      <td>0</td>\n",
       "    </tr>\n",
       "    <tr>\n",
       "      <th>1</th>\n",
       "      <td>5089305</td>\n",
       "      <td>0</td>\n",
       "      <td>30</td>\n",
       "      <td>0</td>\n",
       "      <td>150</td>\n",
       "      <td>420</td>\n",
       "      <td>60</td>\n",
       "    </tr>\n",
       "    <tr>\n",
       "      <th>2</th>\n",
       "      <td>6167307</td>\n",
       "      <td>0</td>\n",
       "      <td>0</td>\n",
       "      <td>0</td>\n",
       "      <td>0</td>\n",
       "      <td>495</td>\n",
       "      <td>0</td>\n",
       "    </tr>\n",
       "    <tr>\n",
       "      <th>3</th>\n",
       "      <td>7000077</td>\n",
       "      <td>0</td>\n",
       "      <td>0</td>\n",
       "      <td>0</td>\n",
       "      <td>6</td>\n",
       "      <td>63</td>\n",
       "      <td>6</td>\n",
       "    </tr>\n",
       "    <tr>\n",
       "      <th>4</th>\n",
       "      <td>8435008</td>\n",
       "      <td>24</td>\n",
       "      <td>40</td>\n",
       "      <td>0</td>\n",
       "      <td>12</td>\n",
       "      <td>28</td>\n",
       "      <td>12</td>\n",
       "    </tr>\n",
       "  </tbody>\n",
       "</table>\n",
       "</div>"
      ],
      "text/plain": [
       "   CUSTOMER_ID  PDP_HITS_BETWEEN_SESSIONS  PLP_HITS_BETWEEN_SESSIONS  \\\n",
       "0      4599255                         80                       1200   \n",
       "1      5089305                          0                         30   \n",
       "2      6167307                          0                          0   \n",
       "3      7000077                          0                          0   \n",
       "4      8435008                         24                         40   \n",
       "\n",
       "   ATC_HITS_BETWEEN_SESSIONS  PDP_HITS_ORDER_SESSION  PLP_HITS_ORDER_SESSION  \\\n",
       "0                          0                       0                       0   \n",
       "1                          0                     150                     420   \n",
       "2                          0                       0                     495   \n",
       "3                          0                       6                      63   \n",
       "4                          0                      12                      28   \n",
       "\n",
       "   ATC_HITS_ORDER_SESSION  \n",
       "0                       0  \n",
       "1                      60  \n",
       "2                       0  \n",
       "3                       6  \n",
       "4                      12  "
      ]
     },
     "execution_count": 38,
     "metadata": {},
     "output_type": "execute_result"
    }
   ],
   "source": [
    "d1 = dataset.groupby(['CUSTOMER_ID'])[['PDP_HITS_BETWEEN_SESSIONS','PLP_HITS_BETWEEN_SESSIONS','ATC_HITS_BETWEEN_SESSIONS','PDP_HITS_ORDER_SESSION','PLP_HITS_ORDER_SESSION','ATC_HITS_ORDER_SESSION']].first()\n",
    "d1 = d1.reset_index()\n",
    "\n",
    "d1.head()"
   ]
  },
  {
   "cell_type": "markdown",
   "metadata": {},
   "source": [
    "Avg hits for activity"
   ]
  },
  {
   "cell_type": "code",
   "execution_count": 39,
   "metadata": {},
   "outputs": [
    {
     "data": {
      "text/plain": [
       "[42.35, 852.26, 11.3, 33.78, 577.14, 15.53]"
      ]
     },
     "execution_count": 39,
     "metadata": {},
     "output_type": "execute_result"
    }
   ],
   "source": [
    "cols = ['PDP_HITS_BETWEEN_SESSIONS','PLP_HITS_BETWEEN_SESSIONS','ATC_HITS_BETWEEN_SESSIONS','PDP_HITS_ORDER_SESSION','PLP_HITS_ORDER_SESSION','ATC_HITS_ORDER_SESSION']\n",
    "[np.round(d1[i].mean(),2) for i in cols]"
   ]
  },
  {
   "cell_type": "markdown",
   "metadata": {},
   "source": [
    "---"
   ]
  },
  {
   "cell_type": "markdown",
   "metadata": {},
   "source": [
    "% of users who have activity after first order and before the day of consumables purchase"
   ]
  },
  {
   "cell_type": "code",
   "execution_count": 40,
   "metadata": {},
   "outputs": [
    {
     "name": "stdout",
     "output_type": "stream",
     "text": [
      "PDP 40.61\n",
      "PLP 48.19\n",
      "ATC 28.62\n"
     ]
    }
   ],
   "source": [
    "print(\"PDP\",np.round(len(d1[(d1['PDP_HITS_BETWEEN_SESSIONS'] != 0)])/len(d1) * 100,2))\n",
    "print(\"PLP\",np.round(len(d1[(d1['PLP_HITS_BETWEEN_SESSIONS'] != 0)])/len(d1) * 100,2))\n",
    "print(\"ATC\",np.round(len(d1[(d1['ATC_HITS_BETWEEN_SESSIONS'] != 0)])/len(d1) * 100,2))"
   ]
  },
  {
   "cell_type": "markdown",
   "metadata": {},
   "source": [
    "Of which - <br>\n",
    "% of users who ONLY have activity after first order and before the day of consumables purchase"
   ]
  },
  {
   "cell_type": "code",
   "execution_count": 41,
   "metadata": {},
   "outputs": [
    {
     "name": "stdout",
     "output_type": "stream",
     "text": [
      "PDP 23.81\n",
      "PLP 25.69\n",
      "ATC 21.95\n"
     ]
    }
   ],
   "source": [
    "print(\"PDP\",np.round(len(d1[(d1['PDP_HITS_BETWEEN_SESSIONS'] != 0) & (d1['PDP_HITS_ORDER_SESSION'] == 0)])/len(d1) * 100,2))\n",
    "print(\"PLP\",np.round(len(d1[(d1['PLP_HITS_BETWEEN_SESSIONS'] != 0) & (d1['PLP_HITS_ORDER_SESSION'] == 0)])/len(d1) * 100,2))\n",
    "print(\"ATC\",np.round(len(d1[(d1['ATC_HITS_BETWEEN_SESSIONS'] != 0) & (d1['ATC_HITS_ORDER_SESSION'] == 0)])/len(d1) * 100,2))"
   ]
  },
  {
   "cell_type": "markdown",
   "metadata": {},
   "source": [
    "---"
   ]
  },
  {
   "cell_type": "markdown",
   "metadata": {},
   "source": [
    "% of users who have activity on the day of consumables purchase"
   ]
  },
  {
   "cell_type": "code",
   "execution_count": 42,
   "metadata": {},
   "outputs": [
    {
     "name": "stdout",
     "output_type": "stream",
     "text": [
      "PDP 54.33\n",
      "PLP 51.94\n",
      "ATC 51.77\n"
     ]
    }
   ],
   "source": [
    "print(\"PDP\",np.round(len(d1[(d1['PDP_HITS_ORDER_SESSION'] != 0)])/len(d1) * 100,2))\n",
    "print(\"PLP\",np.round(len(d1[(d1['PLP_HITS_ORDER_SESSION'] != 0)])/len(d1) * 100,2))\n",
    "print(\"ATC\",np.round(len(d1[(d1['ATC_HITS_ORDER_SESSION'] != 0)])/len(d1) * 100,2))"
   ]
  },
  {
   "cell_type": "markdown",
   "metadata": {},
   "source": [
    "Of which - <br>\n",
    "% of users who ONLY have activity on the day of consumables purchase"
   ]
  },
  {
   "cell_type": "code",
   "execution_count": 43,
   "metadata": {},
   "outputs": [
    {
     "name": "stdout",
     "output_type": "stream",
     "text": [
      "PDP 37.53\n",
      "PLP 29.44\n",
      "ATC 45.1\n"
     ]
    }
   ],
   "source": [
    "print(\"PDP\",np.round(len(d1[(d1['PDP_HITS_BETWEEN_SESSIONS'] == 0) & (d1['PDP_HITS_ORDER_SESSION'] != 0)])/len(d1) * 100,2))\n",
    "print(\"PLP\",np.round(len(d1[(d1['PLP_HITS_BETWEEN_SESSIONS'] == 0) & (d1['PLP_HITS_ORDER_SESSION'] != 0)])/len(d1) * 100,2))\n",
    "print(\"ATC\",np.round(len(d1[(d1['ATC_HITS_BETWEEN_SESSIONS'] == 0) & (d1['ATC_HITS_ORDER_SESSION'] != 0)])/len(d1) * 100,2))"
   ]
  },
  {
   "cell_type": "markdown",
   "metadata": {},
   "source": [
    "---"
   ]
  },
  {
   "cell_type": "markdown",
   "metadata": {},
   "source": [
    "% of users who have activity both before and on the day of consumables purchase"
   ]
  },
  {
   "cell_type": "code",
   "execution_count": 44,
   "metadata": {},
   "outputs": [
    {
     "name": "stdout",
     "output_type": "stream",
     "text": [
      "PDP 16.81\n",
      "PLP 22.5\n",
      "ATC 6.67\n"
     ]
    }
   ],
   "source": [
    "print(\"PDP\",np.round(len(d1[(d1['PDP_HITS_BETWEEN_SESSIONS'] != 0) & (d1['PDP_HITS_ORDER_SESSION'] != 0)])/len(d1) * 100,2))\n",
    "print(\"PLP\",np.round(len(d1[(d1['PLP_HITS_BETWEEN_SESSIONS'] != 0) & (d1['PLP_HITS_ORDER_SESSION'] != 0)])/len(d1) * 100,2))\n",
    "print(\"ATC\",np.round(len(d1[(d1['ATC_HITS_BETWEEN_SESSIONS'] != 0) & (d1['ATC_HITS_ORDER_SESSION'] != 0)])/len(d1) * 100,2))"
   ]
  },
  {
   "cell_type": "markdown",
   "metadata": {},
   "source": [
    "---"
   ]
  },
  {
   "cell_type": "code",
   "execution_count": 45,
   "metadata": {},
   "outputs": [
    {
     "name": "stdout",
     "output_type": "stream",
     "text": [
      "PDP 21.86\n",
      "PLP 22.37\n",
      "ATC 26.28\n"
     ]
    }
   ],
   "source": [
    "print(\"PDP\",np.round(len(d1[(d1['PDP_HITS_BETWEEN_SESSIONS'] == 0) & (d1['PDP_HITS_ORDER_SESSION'] == 0)])/len(d1) * 100,2))\n",
    "print(\"PLP\",np.round(len(d1[(d1['PLP_HITS_BETWEEN_SESSIONS'] == 0) & (d1['PLP_HITS_ORDER_SESSION'] == 0)])/len(d1) * 100,2))\n",
    "print(\"ATC\",np.round(len(d1[(d1['ATC_HITS_BETWEEN_SESSIONS'] == 0) & (d1['ATC_HITS_ORDER_SESSION'] == 0)])/len(d1) * 100,2))"
   ]
  },
  {
   "cell_type": "code",
   "execution_count": null,
   "metadata": {},
   "outputs": [],
   "source": []
  }
 ],
 "metadata": {
  "interpreter": {
   "hash": "f01e5441a97a01ce358d1f15055de9f342c25b6a8a42158bec4bc3e92ecf95f5"
  },
  "kernelspec": {
   "display_name": "Python 3.9.7 ('base')",
   "language": "python",
   "name": "python3"
  },
  "language_info": {
   "codemirror_mode": {
    "name": "ipython",
    "version": 3
   },
   "file_extension": ".py",
   "mimetype": "text/x-python",
   "name": "python",
   "nbconvert_exporter": "python",
   "pygments_lexer": "ipython3",
   "version": "3.9.7"
  },
  "orig_nbformat": 4
 },
 "nbformat": 4,
 "nbformat_minor": 2
}
